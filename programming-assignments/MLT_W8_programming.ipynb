{
  "nbformat": 4,
  "nbformat_minor": 0,
  "metadata": {
    "colab": {
      "provenance": []
    },
    "kernelspec": {
      "name": "python3",
      "display_name": "Python 3"
    },
    "language_info": {
      "name": "python"
    }
  },
  "cells": [
    {
      "cell_type": "code",
      "execution_count": null,
      "metadata": {
        "id": "IeFUTqbNKOzL"
      },
      "outputs": [],
      "source": [
        "import numpy as np\n",
        "import matplotlib.pyplot as plt"
      ]
    },
    {
      "cell_type": "markdown",
      "source": [
        "# Bernoulli naive Bayes"
      ],
      "metadata": {
        "id": "3KUeTDaZuse4"
      }
    },
    {
      "cell_type": "markdown",
      "source": [
        "Run the below cell to get the following variables:\n",
        "\n",
        "`X` = Data matrix of shape $(n, d)$. All the features are binary taking values $0$ or $1$.\n",
        "\n",
        "`y` = label vector. Labels are $0$ and $1$."
      ],
      "metadata": {
        "id": "xpHCecV1uwdn"
      }
    },
    {
      "cell_type": "code",
      "source": [
        "rng = np.random.default_rng(seed=1)\n",
        "X1 = np.concatenate((rng.binomial(size = 50,n = 1, p =0.7), rng.binomial(size = 50,n = 1, p =0.2))).reshape(-1, 1)\n",
        "X2 = np.concatenate((rng.binomial(size = 50,n = 1, p =0.6), rng.binomial(size = 50,n = 1, p =0.1))).reshape(-1, 1)\n",
        "X3 = np.concatenate((rng.binomial(size = 50,n = 1, p =0.6), rng.binomial(size = 50,n = 1, p =0.2))).reshape(-1, 1)\n",
        "X4 = np.concatenate((rng.binomial(size = 50,n = 1, p =0.8), rng.binomial(size = 50,n = 1, p =0.1))).reshape(-1, 1)\n",
        "\n",
        "\n",
        "X = np.column_stack((X1,X2,X3,X4))\n",
        "\n",
        "y = np.concatenate((np.zeros(50, dtype= int), np.ones(50, dtype = int))).reshape(-1, 1)\n",
        "permute = rng.permuted(range(100)) \n",
        "\n",
        "X = X[permute]\n",
        "y = y[permute]\n"
      ],
      "metadata": {
        "id": "0PxEvCrZ3FD_"
      },
      "execution_count": null,
      "outputs": []
    },
    {
      "cell_type": "markdown",
      "source": [
        "## Question 1\n",
        "If we train the naive Bayes model on the dataset, What will be the value of $\\hat{p}$, the estimate for $P(Y=1)$? \n",
        "\n",
        "**Answer**\n",
        "\n",
        "$0.5$ No range is required"
      ],
      "metadata": {
        "id": "Zl_usamKCeY5"
      }
    },
    {
      "cell_type": "code",
      "source": [
        "np.sum(y)/len(y)"
      ],
      "metadata": {
        "colab": {
          "base_uri": "https://localhost:8080/"
        },
        "id": "J5lPVYy-8yLf",
        "outputId": "2483b8b8-1650-434a-fdf2-5874bc2411ff"
      },
      "execution_count": null,
      "outputs": [
        {
          "output_type": "execute_result",
          "data": {
            "text/plain": [
              "0.5"
            ]
          },
          "metadata": {},
          "execution_count": 3
        }
      ]
    },
    {
      "cell_type": "markdown",
      "source": [
        "## Question 2\n",
        "What will be the value of $\\hat{p}_0^0$, the estimate of $P(f_0=1|y=0)$?  Write your answer correct to two decimal places.\n",
        "\n",
        "**Answer**\n",
        "\n",
        "$0.68$  Range: $[0.6, 0.7]$\n"
      ],
      "metadata": {
        "id": "yOoMZca0DGhs"
      }
    },
    {
      "cell_type": "markdown",
      "source": [
        "## Question 3\n",
        "What will be the value of $\\hat{p}_0^1$, the estimate of $P(f_0=1|y=1)$?  Write your answer correct to two decimal places.\n",
        "\n",
        "**Answer**\n",
        "\n",
        "$0.26$  Range: $[0.2, 0.3]$\n"
      ],
      "metadata": {
        "id": "YzJLLT6-G8GC"
      }
    },
    {
      "cell_type": "markdown",
      "source": [
        "## Question 4\n",
        "What will be the value of $\\hat{p}_3^1$, the estimate of $P(f_3=1|y=1)$?  Write your answer correct to two decimal places.\n",
        "\n",
        "**Answer**\n",
        "\n",
        "$0.12$  Range: $[0.1, 0.2]$\n"
      ],
      "metadata": {
        "id": "NiciwccfHGwq"
      }
    },
    {
      "cell_type": "code",
      "source": [
        "labels = np.unique(y)\n",
        "for i in labels:\n",
        "  X_c = X[y.flatten()==i]\n",
        "  for j in range(X.shape[1]):\n",
        "    print(f'P(f_{j}=1|y={i})=' , np.sum(X_c[:, j])/X_c.shape[0]) "
      ],
      "metadata": {
        "colab": {
          "base_uri": "https://localhost:8080/"
        },
        "id": "YtXPKjmp6zOt",
        "outputId": "f156aef9-7680-4eac-a64e-c8096f1d8f84"
      },
      "execution_count": null,
      "outputs": [
        {
          "output_type": "stream",
          "name": "stdout",
          "text": [
            "P(f_0=1|y=0)= 0.68\n",
            "P(f_1=1|y=0)= 0.64\n",
            "P(f_2=1|y=0)= 0.6\n",
            "P(f_3=1|y=0)= 0.84\n",
            "P(f_0=1|y=1)= 0.26\n",
            "P(f_1=1|y=1)= 0.14\n",
            "P(f_2=1|y=1)= 0.18\n",
            "P(f_3=1|y=1)= 0.12\n"
          ]
        }
      ]
    },
    {
      "cell_type": "code",
      "source": [
        "def estimates(X, y):\n",
        "  p_hat = np.sum(y)/len(y)\n",
        "  #X_c = X[y.flatten()==1]\n",
        "  #labels = np.unique(y)\n",
        "  #p_hat = len(X_c)/X.shape[0]\n",
        "  est = np.zeros((len(labels), X.shape[1]))\n",
        "  for i in labels:\n",
        "    X_c = X[y.flatten()==i]\n",
        "    for j in range(X.shape[1]):\n",
        "      est[i][j] =np.sum(X_c[:, j])/X_c.shape[0]\n",
        "\n",
        "  return p_hat, est\n"
      ],
      "metadata": {
        "id": "-r2Jx-c4Yy0h"
      },
      "execution_count": null,
      "outputs": []
    },
    {
      "cell_type": "code",
      "source": [
        "p, est = estimates(X, y)"
      ],
      "metadata": {
        "id": "xsaahz9sbchy"
      },
      "execution_count": null,
      "outputs": []
    },
    {
      "cell_type": "code",
      "source": [
        "est"
      ],
      "metadata": {
        "colab": {
          "base_uri": "https://localhost:8080/"
        },
        "id": "mQkXvnP_wVPm",
        "outputId": "6487bdcb-5cf5-404d-b5c7-083786cbb327"
      },
      "execution_count": null,
      "outputs": [
        {
          "output_type": "execute_result",
          "data": {
            "text/plain": [
              "array([[0.68, 0.64, 0.6 , 0.84],\n",
              "       [0.26, 0.14, 0.18, 0.12]])"
            ]
          },
          "metadata": {},
          "execution_count": 16
        }
      ]
    },
    {
      "cell_type": "markdown",
      "source": [
        "## Question 5\n",
        "\n",
        "What will be the predicted label for the point $[1, 0, 1, 0]$? \n",
        "\n",
        "**Answer**\n",
        "\n",
        "$1$"
      ],
      "metadata": {
        "id": "3oJ0jnoHHcd9"
      }
    },
    {
      "cell_type": "code",
      "source": [
        "def predict(x, est, p):\n",
        "  p0 = 1-p\n",
        "  for idx, k in enumerate(x.flatten()):\n",
        "    p0=p0*((est[0][idx])**k)*((1-est[0][idx])**(1-k))\n",
        "  p1 = p\n",
        "  for idx, l in enumerate(x.flatten()):\n",
        "    p1=p1*((est[1][idx])**l)*((1-est[1][idx])**(1-l))\n",
        "  if p0>p1:\n",
        "    return 0\n",
        "  return 1\n"
      ],
      "metadata": {
        "id": "MoYmaBy9KQSU"
      },
      "execution_count": null,
      "outputs": []
    },
    {
      "cell_type": "code",
      "source": [
        "x1 = np.array([[1], [0], [1], [0]])\n",
        "\n",
        "predict(x1, est, p)"
      ],
      "metadata": {
        "colab": {
          "base_uri": "https://localhost:8080/"
        },
        "id": "QrLk7azY16Zn",
        "outputId": "3b7bfe5c-d0bb-41ff-e1fa-b0fdc3c37dea"
      },
      "execution_count": null,
      "outputs": [
        {
          "output_type": "execute_result",
          "data": {
            "text/plain": [
              "1"
            ]
          },
          "metadata": {},
          "execution_count": 49
        }
      ]
    },
    {
      "cell_type": "markdown",
      "source": [
        "## Question 6\n",
        "\n",
        "What will be the predicted label for the point $[1, 0, 1, 1]$? \n",
        "\n",
        "**Answer**\n",
        "\n",
        "$0$"
      ],
      "metadata": {
        "id": "3J2SCm1yHxd4"
      }
    },
    {
      "cell_type": "code",
      "source": [
        "new_x = np.array([[1], [0], [1], [1]])\n",
        "\n",
        "predict(new_x, est, p)"
      ],
      "metadata": {
        "colab": {
          "base_uri": "https://localhost:8080/"
        },
        "id": "tK04m9YU7cXy",
        "outputId": "31e637ae-22f7-4a6e-e700-1ef2456c51b2"
      },
      "execution_count": null,
      "outputs": [
        {
          "output_type": "execute_result",
          "data": {
            "text/plain": [
              "0"
            ]
          },
          "metadata": {},
          "execution_count": 51
        }
      ]
    },
    {
      "cell_type": "code",
      "source": [
        "p1 = p\n",
        "for idx, x in enumerate(new_x.flatten()):\n",
        "  p1=p1*((est[1][idx])**x)*((1-est[1][idx])**(1-x))\n",
        "p1"
      ],
      "metadata": {
        "colab": {
          "base_uri": "https://localhost:8080/"
        },
        "id": "oVIt0HavzvXe",
        "outputId": "5ca5a20a-98a6-4689-9745-8ab2ac348999"
      },
      "execution_count": null,
      "outputs": [
        {
          "output_type": "execute_result",
          "data": {
            "text/plain": [
              "0.00241488"
            ]
          },
          "metadata": {},
          "execution_count": 35
        }
      ]
    },
    {
      "cell_type": "markdown",
      "source": [
        "# Gaussian naive Bayes"
      ],
      "metadata": {
        "id": "45p6DAPA7dCl"
      }
    },
    {
      "cell_type": "markdown",
      "source": [
        "Run the below cell to get the following variables:\n",
        "\n",
        "`X_train` = Training dataset of the shape $(n, d)$. All the examples are coming from multivariate gaussian distribution.\n",
        "\n",
        "`y_train` = label vector for corresponding training examples. labels are $0$ and $1$.\n",
        "\n",
        "`X_test` = Test dataset of the shape $(m, d)$, where $m$ is the number of examples in the test dataset. All the examples are coming from multivariate gaussian distribution.\n",
        "\n",
        "`y_test` = label vector for corresponding test examples. labels are $0$ and $1$.\n",
        "\n"
      ],
      "metadata": {
        "id": "bbamhBbvjuzj"
      }
    },
    {
      "cell_type": "markdown",
      "source": [],
      "metadata": {
        "id": "qAUJOwPhklsG"
      }
    },
    {
      "cell_type": "code",
      "source": [
        "from sklearn.datasets import make_classification, make_blobs\n",
        "from sklearn.model_selection import train_test_split\n",
        "\n",
        "# generate artificial data points\n",
        "X, y = make_blobs(n_samples = 100,\n",
        "                  n_features=2, \n",
        "                  centers=[[5,5],[10,10]],\n",
        "                  cluster_std=1.5,\n",
        "                  random_state=2)\n",
        "\n",
        "X_train, X_test, y_train, y_test = train_test_split(X, y, test_size=0.2,\n",
        "                                                    random_state=123)"
      ],
      "metadata": {
        "id": "qtqz8DPG7gok"
      },
      "execution_count": null,
      "outputs": []
    },
    {
      "cell_type": "markdown",
      "source": [
        "## Question 7\n",
        "\n",
        "How many examples are there in the trianing dataset?\n",
        "\n",
        "**Answer**\n",
        "80"
      ],
      "metadata": {
        "id": "BRc3AVIZkphz"
      }
    },
    {
      "cell_type": "code",
      "source": [
        "X_train.shape[0]"
      ],
      "metadata": {
        "colab": {
          "base_uri": "https://localhost:8080/"
        },
        "id": "9nqy1H-nkybF",
        "outputId": "fbc888ac-0e1e-4961-9e0d-89b4a80877f0"
      },
      "execution_count": null,
      "outputs": [
        {
          "output_type": "execute_result",
          "data": {
            "text/plain": [
              "80"
            ]
          },
          "metadata": {},
          "execution_count": 161
        }
      ]
    },
    {
      "cell_type": "markdown",
      "source": [
        "## Question 8\n",
        "How many features are there in the dataset?\n",
        "\n",
        "**Answer**\n",
        "\n",
        "2"
      ],
      "metadata": {
        "id": "KhQF7arNk6xf"
      }
    },
    {
      "cell_type": "code",
      "source": [
        "X_train.shape[1]"
      ],
      "metadata": {
        "colab": {
          "base_uri": "https://localhost:8080/"
        },
        "id": "uoO-_Wv9lruv",
        "outputId": "c7ff0a1e-0ee2-4b7e-b57f-70b51be0033e"
      },
      "execution_count": null,
      "outputs": [
        {
          "output_type": "execute_result",
          "data": {
            "text/plain": [
              "2"
            ]
          },
          "metadata": {},
          "execution_count": 162
        }
      ]
    },
    {
      "cell_type": "code",
      "source": [],
      "metadata": {
        "id": "9RFywCemAS1i"
      },
      "execution_count": null,
      "outputs": []
    },
    {
      "cell_type": "markdown",
      "source": [
        "## Question 9\n",
        "\n",
        "If we train the Gaussian naive Bayes model on the trianing dataset, What will be the value of $\\hat{p}$, the estimate for $P(Y=1)$? Write your answer correct to two decimal places.\n",
        "\n",
        "**Answer**\n",
        "\n",
        "$0.48$ Range: $[0.46, 0.50]$\n",
        "\n"
      ],
      "metadata": {
        "id": "yf2hc7NDlxm8"
      }
    },
    {
      "cell_type": "code",
      "source": [
        "def priors(y):\n",
        "  return np.mean(y)"
      ],
      "metadata": {
        "id": "LpJE6KJ5mpBp"
      },
      "execution_count": null,
      "outputs": []
    },
    {
      "cell_type": "code",
      "source": [
        "p = priors(y_train)\n",
        "p"
      ],
      "metadata": {
        "colab": {
          "base_uri": "https://localhost:8080/"
        },
        "id": "y4ITnikBIvra",
        "outputId": "009a8e4e-e1c9-405d-cc91-74d40b82d5b2"
      },
      "execution_count": null,
      "outputs": [
        {
          "output_type": "execute_result",
          "data": {
            "text/plain": [
              "0.4875"
            ]
          },
          "metadata": {},
          "execution_count": 168
        }
      ]
    },
    {
      "cell_type": "markdown",
      "source": [
        "## Question 10\n",
        "\n",
        "If $\\hat{\\mu}_0 = [\\mu_1, \\mu_2, ..., \\mu_d]$ be the estimate for $\\mu_0$, the mean of $0$ labeled examples, what will be the value of $\\mu_1+\\mu_2+...+\\mu_d$? Write your answer correct to two decimal places.\n",
        "\n",
        "**Answer**\n",
        "\n",
        "$9.57$ Range: $[9.54, 9.60]$ "
      ],
      "metadata": {
        "id": "0wQUcpH7mrZr"
      }
    },
    {
      "cell_type": "code",
      "source": [
        "labels = np.unique(y)"
      ],
      "metadata": {
        "id": "mtZ_BtxImJ0J"
      },
      "execution_count": null,
      "outputs": []
    },
    {
      "cell_type": "code",
      "source": [
        "def Gestimates(X, y):\n",
        "  labels = np.unique(y)\n",
        "  mean = np.zeros((len(labels), X.shape[1]))\n",
        "  var = np.zeros((len(labels), X.shape[1]))\n",
        "  for idx, c in enumerate(labels):\n",
        "    X_c = X[y.flatten()==c]\n",
        "    mean[idx, :] = np.mean(X_c, axis = 0)\n",
        "    var[idx, :]=np.var(X_c, axis = 0)\n",
        "  return mean, var\n"
      ],
      "metadata": {
        "id": "UvY8XPBJ8jD_"
      },
      "execution_count": null,
      "outputs": []
    },
    {
      "cell_type": "code",
      "source": [
        "mu, sigma = Gestimates(X_train, y_train)"
      ],
      "metadata": {
        "id": "eflyGSSGIuiT"
      },
      "execution_count": null,
      "outputs": []
    },
    {
      "cell_type": "code",
      "source": [
        "np.sum(mu[0])"
      ],
      "metadata": {
        "colab": {
          "base_uri": "https://localhost:8080/"
        },
        "id": "8IByQpuGncKs",
        "outputId": "4190cb73-3caa-4c91-b745-068c323dffa7"
      },
      "execution_count": null,
      "outputs": [
        {
          "output_type": "execute_result",
          "data": {
            "text/plain": [
              "9.575936394688135"
            ]
          },
          "metadata": {},
          "execution_count": 173
        }
      ]
    },
    {
      "cell_type": "markdown",
      "source": [
        "We will be using the different covariances for different labeled examples. The estimate for $\\Sigma_k$ will be \n",
        "\n",
        "$$\\hat{\\Sigma}_k = \\sigma_iI$$ where $\\sigma_i$ is the variance of $i^{th}$ feature values of examples labeled $k$.\n",
        "\n"
      ],
      "metadata": {
        "id": "1mnoFEJQnq9E"
      }
    },
    {
      "cell_type": "markdown",
      "source": [
        "## Question 11\n",
        "What will be value of $\\text{trace}({\\hat{\\Sigma}}_0)$?  Write your answer correct to two decimal places.\n",
        "\n",
        "**Answer**\n",
        "\n",
        "$4.43$ Range: $[4.40, 4.46]$\n",
        "\n",
        "\n",
        "\n"
      ],
      "metadata": {
        "id": "f-aioEqdpng7"
      }
    },
    {
      "cell_type": "code",
      "source": [
        "np.sum(sigma[0])"
      ],
      "metadata": {
        "colab": {
          "base_uri": "https://localhost:8080/"
        },
        "id": "ExzW4sEOqpEF",
        "outputId": "697f89dc-d23d-4a05-964a-32cf15f4bab2"
      },
      "execution_count": null,
      "outputs": [
        {
          "output_type": "execute_result",
          "data": {
            "text/plain": [
              "4.435204194501573"
            ]
          },
          "metadata": {},
          "execution_count": 181
        }
      ]
    },
    {
      "cell_type": "markdown",
      "source": [
        "## Question 12\n",
        "\n",
        "Once we have estimated all the parameters for Gaussian naive Bayes assuming the different covariance matrices, we predict the labels for the training examples. What will be the training accuracy?\n",
        "\n",
        "Accuracy is defined as the proportion of correctly classified examples.  Write your answer correct to two decimal places.\n",
        "\n",
        "**Answer**\n",
        "\n",
        "$0.98$ Range: $[0.97, 0.99]$\n"
      ],
      "metadata": {
        "id": "UKbeWd7fq1Ny"
      }
    },
    {
      "cell_type": "code",
      "source": [
        "def G_pdf(X, p, mean, var, label):\n",
        "  covar = np.diag(var[label]) \n",
        "  z = np.power(2 * np.pi, X.shape[0]/2) * np.power(np.linalg.det(covar), 1/2)\n",
        "  return (1/z) * np.exp(-(1/2)*(X - mean[label]).T@(np.linalg.inv(covar))@(X - mean[label]))"
      ],
      "metadata": {
        "id": "YIg9Z1K0GwUo"
      },
      "execution_count": null,
      "outputs": []
    },
    {
      "cell_type": "code",
      "source": [
        "def predict(X, p, mean, var, label):\n",
        "  Likelihood_prior = np.zeros((X.shape[0], len(label)))\n",
        "  for x_idx, x in enumerate(X):\n",
        "    for idx, c in enumerate(label):\n",
        "      Likelihood_prior[x_idx, c] = np.log(G_pdf(x, p, mean, var, c)) + (np.log((p**(c))*((1-p)**(1-c))))\n",
        "  return np.argmax(Likelihood_prior, axis=1)\n",
        "  #return Likelihood_prior"
      ],
      "metadata": {
        "id": "v0f3MYDQAoyJ"
      },
      "execution_count": null,
      "outputs": []
    },
    {
      "cell_type": "code",
      "source": [
        "np.mean(predict(X_train, p, mu, sigma, labels)==y_train)"
      ],
      "metadata": {
        "colab": {
          "base_uri": "https://localhost:8080/"
        },
        "id": "_GRZ_tzMJJie",
        "outputId": "579d2b5e-f52c-4a11-e3eb-e165e49cf3d7"
      },
      "execution_count": null,
      "outputs": [
        {
          "output_type": "execute_result",
          "data": {
            "text/plain": [
              "0.9875"
            ]
          },
          "metadata": {},
          "execution_count": 185
        }
      ]
    },
    {
      "cell_type": "markdown",
      "source": [
        "## Question 13\n",
        "\n",
        "What will be the test accuracy?\n",
        "\n",
        "Accuracy is defined as the proportion of correctly classified examples.  \n",
        "\n",
        "**Answer**\n",
        "\n",
        "$1$\n"
      ],
      "metadata": {
        "id": "kg661kj3uaxx"
      }
    },
    {
      "cell_type": "code",
      "source": [
        "np.mean(predict(X_test, p, mu, sigma, labels)==y_test)"
      ],
      "metadata": {
        "colab": {
          "base_uri": "https://localhost:8080/"
        },
        "id": "ST0Ri7TEujUw",
        "outputId": "3e3b90ad-0617-4ab2-db8b-e52e0bffb7d8"
      },
      "execution_count": null,
      "outputs": [
        {
          "output_type": "execute_result",
          "data": {
            "text/plain": [
              "1.0"
            ]
          },
          "metadata": {},
          "execution_count": 186
        }
      ]
    }
  ]
}